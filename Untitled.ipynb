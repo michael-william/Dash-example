{
 "cells": [
  {
   "cell_type": "code",
   "execution_count": 1,
   "id": "cbcacd3e-440a-4b0a-b818-d00640efce12",
   "metadata": {},
   "outputs": [],
   "source": [
    "import pandas as pd\n",
    "import numpy as np\n",
    "import datetime as dt\n",
    "import plotly.express as px\n",
    "import plotly.graph_objects as go\n",
    "import chart_studio.plotly as py\n",
    "import plotly.offline as pyoff\n",
    "from plotly.subplots import make_subplots"
   ]
  },
  {
   "cell_type": "markdown",
   "id": "ec3569d3-4c19-461d-8cce-a2bf1e64e1b7",
   "metadata": {},
   "source": [
    "# Formats"
   ]
  },
  {
   "cell_type": "code",
   "execution_count": 37,
   "id": "f7114d05-bd89-4011-a89f-07995d1432b1",
   "metadata": {},
   "outputs": [],
   "source": [
    "#Formats\n",
    "pink = '#d63384'\n",
    "\n",
    "color_dict = {'blue': '#378dfc',\n",
    "            'indigo': '#6610f2',\n",
    "            'purple': '#5b62f4',\n",
    "            'red': '#e52527',\n",
    "            'orange': '#fd7e14',\n",
    "            'yellow': '#ffc107',\n",
    "            'green': '#43cc29',\n",
    "            'teal': '#20c997',\n",
    "            'cyan': '#0dcaf0',}\n",
    "\n",
    "pink_rgba = 'rgba(214, 51, 132,1)'\n",
    "top5_colors = ['rgba(214, 51, 132,1)', 'rgba(242, 117, 181, 1)',\n",
    "                'rgba(246, 137, 193, 1)', 'rgba(253, 167, 211, 1)',\n",
    "                'rgba(255, 183, 220, 1)']\n",
    "\n",
    "top_ten_rgba = [\n",
    "                'rgba(102, 16, 242, 1)', #'indigo'\n",
    "                'rgba(55, 141, 252, 1)', #'blue'\n",
    "                'rgba(13, 202, 240, 1)', #'cyan'\n",
    "                'rgba(32, 201, 151, 1)', #'teal'\n",
    "                'rgba(67, 204, 41, 1)', #'green'\n",
    "                'rgba(255, 193, 7, 1)', #'yellow': \n",
    "                'rgba(253, 126, 20, 1)', #'orange'\n",
    "                'rgba(127, 138, 153, 1)', #'grey'\n",
    "                'rgba(68, 75, 64, 1)', #'dark grey'\n",
    "                'rgba(255, 255, 15, 1)' #'white' \n",
    "]"
   ]
  },
  {
   "cell_type": "code",
   "execution_count": 31,
   "id": "427ee8cc-7021-4cdb-b6e4-18287d569431",
   "metadata": {},
   "outputs": [],
   "source": [
    "top_ten={\n",
    "    'indigo':'#6610f2',\n",
    "    'blue':'#378dfc',\n",
    "    'cyan':'#0dcaf0;',\n",
    "    'teal':'#20c997',\n",
    "    'green':'#43cc29',\n",
    "    'yellow':'#ffc107',\n",
    "    'orange':'#fd7e14',\n",
    "    'grey':'#7f8a99',\n",
    "    'dark grey':'#444b40',\n",
    "    'white':'#fffff'\n",
    "}"
   ]
  },
  {
   "cell_type": "code",
   "execution_count": 29,
   "id": "22d92f8f-836e-4d1a-ae78-ca692d16ad77",
   "metadata": {},
   "outputs": [],
   "source": [
    "top_ten_rgba = {}\n",
    "for i in top_ten:\n",
    "    h = top_ten[i].lstrip('#')\n",
    "    top_ten_rgba[i] = ('rgba'+str(tuple(int(h[i:i+2], 16) for i in (0, 2, 4))))"
   ]
  },
  {
   "cell_type": "code",
   "execution_count": 30,
   "id": "2ac33538-6ce4-4c4f-bff2-ef4aa2ac7a22",
   "metadata": {},
   "outputs": [
    {
     "data": {
      "text/plain": [
       "{'indigo': 'rgba(102, 16, 242)',\n",
       " 'blue': 'rgba(55, 141, 252)',\n",
       " 'cyan': 'rgba(13, 202, 240)',\n",
       " 'teal': 'rgba(32, 201, 151)',\n",
       " 'green': 'rgba(67, 204, 41)',\n",
       " 'yellow': 'rgba(255, 193, 7)',\n",
       " 'orange': 'rgba(253, 126, 20)',\n",
       " 'grey': 'rgba(127, 138, 153)',\n",
       " 'dark grey': 'rgba(68, 75, 64)',\n",
       " 'white': 'rgba(255, 255, 15)'}"
      ]
     },
     "execution_count": 30,
     "metadata": {},
     "output_type": "execute_result"
    }
   ],
   "source": [
    "top_ten_rgba"
   ]
  },
  {
   "cell_type": "markdown",
   "id": "3a1d463a-5d9d-4f72-b51a-98d378211f20",
   "metadata": {},
   "source": [
    "# Importing data"
   ]
  },
  {
   "cell_type": "code",
   "execution_count": 4,
   "id": "2aa66075-eb9d-41d1-aed7-c4177ac887aa",
   "metadata": {},
   "outputs": [],
   "source": [
    "df = pd.read_csv('/Users/michaelcondon/Documents/DataAndStories/Codebase/Dash-template/data/Condensed data from online retail.csv',\n",
    "                parse_dates=[\"InvoiceDay\"])\n",
    "months = df[\"InvoiceDay\"].dt.strftime('%b')\n",
    "years = df[\"InvoiceDay\"].dt.strftime('%Y')\n",
    "df[\"Month\"] = months\n",
    "df[\"Year\"] = years\n",
    "df['Line totals'] = df['Quantity'] * df['UnitPrice']"
   ]
  },
  {
   "cell_type": "code",
   "execution_count": 5,
   "id": "82801d2d-5a9a-4275-9591-089e6aeb8175",
   "metadata": {},
   "outputs": [],
   "source": [
    "ordered = df[(df['TransType']=='Ordered') & (df['Year']=='2020')].copy().reset_index()\n",
    "refunds = df[(df['TransType']!='Ordered') & (df['Year']=='2020')].copy().reset_index()"
   ]
  },
  {
   "cell_type": "markdown",
   "id": "9686cc27-73f4-4b0a-a2b9-c68a924a12a2",
   "metadata": {},
   "source": [
    "# Sales"
   ]
  },
  {
   "cell_type": "markdown",
   "id": "7d8494ae-3ec6-44bd-97cc-dceed47c07e9",
   "metadata": {},
   "source": [
    "## Card1"
   ]
  },
  {
   "cell_type": "markdown",
   "id": "f5581327-f645-4d26-96ea-32f60a5a5805",
   "metadata": {},
   "source": [
    "### Card1 functions"
   ]
  },
  {
   "cell_type": "code",
   "execution_count": 6,
   "id": "329e1fb3-11b3-40f5-aecc-5886ce8e634a",
   "metadata": {},
   "outputs": [],
   "source": [
    "#Getting raw number of total sold\n",
    "def sales_total_func(dataset):\n",
    "    return np.sum(dataset[\"Quantity\"] * dataset[\"UnitPrice\"])\n",
    "\n",
    "#Turning raw number into human format\n",
    "def human_format(num):\n",
    "    num = float('{:.3g}'.format(num))\n",
    "    magnitude = 0\n",
    "    while abs(num) >= 1000:\n",
    "        magnitude += 1\n",
    "        num /= 1000.0\n",
    "    return '{}{}'.format('{:f}'.format(num).rstrip('0').rstrip('.'), ['', 'K', 'M', 'B', 'T'][magnitude])\n",
    "\n",
    "# Variable for sorting months\n",
    "month_order = ['Jan','Feb','Mar','Apr','May','Jun','Jul','Aug','Sep','Oct','Nov','Dec']\n",
    "\n",
    "#Getting total sales for each month\n",
    "def monthly_sales_func(dataset,order):\n",
    "    monthly_sales_df = np.ceil(pd.DataFrame(dataset.groupby(\"Month\")[\"Line totals\"].sum())).loc[order]\n",
    "    monthly_sales_df['labels'] = monthly_sales_df['Line totals'].apply(lambda x: '$'+human_format(x))\n",
    "    return monthly_sales_df\n",
    "\n",
    "#Plotting monthly_totals\n",
    "def monthly_sales_plot_func(monthly_sales_df,line_color):\n",
    "    monthly_sales_plot = go.Figure()\n",
    "    monthly_sales_plot.add_trace(go.Scatter(x=monthly_sales_df.index, \n",
    "                                            y=monthly_sales_df['Line totals'], \n",
    "                                            mode='lines+markers',\n",
    "                                            marker={\"size\":6},\n",
    "                                            line_shape='spline',\n",
    "                                            text=monthly_sales_df['labels'],\n",
    "                                            hovertemplate = '%{x} %{text} <extra></extra>',\n",
    "                                            line=dict(color=line_color),\n",
    "                                            connectgaps=True))\n",
    "\n",
    "\n",
    "    monthly_sales_plot.update_layout(\n",
    "        xaxis=dict(\n",
    "            showline=False,\n",
    "            showgrid=False,\n",
    "            showticklabels=True,\n",
    "            linecolor='rgb(204, 204, 204)',\n",
    "            linewidth=2,\n",
    "            ticks='outside',\n",
    "            tickfont=dict(\n",
    "                #family='Arial',\n",
    "                size=12,\n",
    "                #color='rgb(82, 82, 82)',\n",
    "            ),\n",
    "        ),\n",
    "        yaxis=dict(\n",
    "            showgrid=False,\n",
    "            zeroline=False,\n",
    "            showline=False,\n",
    "            showticklabels=False,\n",
    "        ),\n",
    "        autosize=True,\n",
    "        #width=200,\n",
    "        height=150,\n",
    "        margin=dict(\n",
    "            autoexpand=False,\n",
    "            l=0,\n",
    "            r=0,\n",
    "            t=0,\n",
    "            b=38,\n",
    "        ),\n",
    "        showlegend=False,\n",
    "        paper_bgcolor='rgba(0,0,0,0)',\n",
    "        plot_bgcolor='rgba(0,0,0,0)'\n",
    "    )\n",
    "    return monthly_sales_plot"
   ]
  },
  {
   "cell_type": "markdown",
   "id": "8af710b0-d936-4eb7-9cee-9d68e4b01e42",
   "metadata": {},
   "source": [
    "### App"
   ]
  },
  {
   "cell_type": "code",
   "execution_count": 9,
   "id": "32bf4cb8-af26-41de-b611-b77b51728bde",
   "metadata": {},
   "outputs": [],
   "source": [
    "sales_total = sales_total_func(ordered)\n",
    "sales_total_short = human_format(sales_total)\n",
    "monthly_sales_df = monthly_sales_func(ordered, month_order)\n",
    "monthly_sales_graph = monthly_sales_plot_func(monthly_sales_df, pink_rgba)"
   ]
  },
  {
   "cell_type": "markdown",
   "id": "fa7d20fc-2b5b-4470-8ac7-b7a790fb2a49",
   "metadata": {
    "tags": []
   },
   "source": [
    "## Card2"
   ]
  },
  {
   "cell_type": "markdown",
   "id": "65f33c10-e6cd-4747-a924-cc88dc4ada64",
   "metadata": {
    "tags": []
   },
   "source": [
    "### Card2 functions"
   ]
  },
  {
   "cell_type": "code",
   "execution_count": 34,
   "id": "7a1372a0-266f-477c-bf01-aa0881cd5d31",
   "metadata": {},
   "outputs": [],
   "source": [
    "# Getting top 5 sales items\n",
    "def top5_sales_func(dataset,top_ten_rgba):\n",
    "    desc_sales = pd.DataFrame(zip(dataset['Line totals'], dataset[\"Description\"]))\n",
    "    desc_sales.columns = [\"Line totals\",\"Item\"]\n",
    "    desc_sales_df = np.ceil(pd.DataFrame(desc_sales.groupby(\"Item\")[\"Line totals\"].sum())).sort_values('Line totals',ascending=False)\n",
    "    desc_sales_df['labels'] = desc_sales_df['Line totals'].apply(lambda x: '$'+human_format(x))\n",
    "    desc_sales_df = desc_sales_df.head()\n",
    "    color_dict\n",
    "    return desc_sales_df,list(desc_sales_df.index), \n",
    "\n",
    "# Plotting top 5 sales items\n",
    "def top5_sales_plot(top5_sales_df,color_list):\n",
    "    desc_sales_plot = go.Figure()\n",
    "\n",
    "    for int,i in enumerate(top5_sales_df.index):\n",
    "        desc_sales_plot.add_trace(go.Scatter(y=[i,i], \n",
    "                                            x=[0,top5_sales_df.loc[i]['Line totals']], \n",
    "                                            mode='lines+markers',\n",
    "                                            marker={\"size\":9},\n",
    "                                            text = [top5_sales_df.loc[i]['labels']]*2,\n",
    "                                            line=dict(color = color_list[int],width=9),\n",
    "                                            hovertemplate = '%{y} <br>%{text}<extra></extra>',\n",
    "                                            #hoverinfo='skip',\n",
    "                                            ))\n",
    "        desc_sales_plot.add_annotation(xanchor='left',\n",
    "                                x=0,\n",
    "                                y=i,\n",
    "                                text=i,\n",
    "                                yshift=10,\n",
    "                                xshift=-5,\n",
    "                                font={'size':9},\n",
    "                                showarrow=False,\n",
    "                            )\n",
    "\n",
    "    desc_sales_plot.update_layout(\n",
    "        xaxis=dict(\n",
    "            showline=False,\n",
    "            showgrid=False,\n",
    "            showticklabels=True,\n",
    "            zeroline=False,\n",
    "            ticks='outside',\n",
    "            tickfont=dict(\n",
    "                family='Arial',\n",
    "                size=12,\n",
    "                #color='rgb(82, 82, 82)',\n",
    "            ),\n",
    "        ),\n",
    "        yaxis=dict(\n",
    "            autorange='reversed',\n",
    "            showgrid=False,\n",
    "            showline=False,\n",
    "            showticklabels=False,\n",
    "            tickangle=-45,\n",
    "            tickfont=dict(\n",
    "                family='Arial',\n",
    "                size=9,\n",
    "                #color='rgb(82, 82, 82)',\n",
    "            )\n",
    "        ),\n",
    "        xaxis_tickprefix = '$',\n",
    "        autosize=True,\n",
    "        #width=200,\n",
    "        height=200,\n",
    "        showlegend=False,\n",
    "        paper_bgcolor='rgba(0,0,0,0)',\n",
    "        plot_bgcolor='rgba(0,0,0,0)',\n",
    "        margin=dict(\n",
    "            autoexpand=False,\n",
    "            l=0,\n",
    "            r=0,\n",
    "            t=0,\n",
    "            b=35,\n",
    "        ),\n",
    "    )\n",
    "    \n",
    "    return desc_sales_plot"
   ]
  },
  {
   "cell_type": "markdown",
   "id": "ba4dc048-62c6-43cc-9a44-31d6159b5d88",
   "metadata": {},
   "source": [
    "### App"
   ]
  },
  {
   "cell_type": "code",
   "execution_count": 35,
   "id": "5737b861-f8ec-41e2-9bbe-f98018c04fcf",
   "metadata": {},
   "outputs": [],
   "source": [
    "top5_sales,top5_sales_list, top_color_dict = top5_sales_func(ordered)\n",
    "top5_sales_graph = top5_sales_plot(top5_sales,top5_colors)"
   ]
  },
  {
   "cell_type": "code",
   "execution_count": 36,
   "id": "f49eee84-4972-4c99-88ba-738c2d7fdb83",
   "metadata": {},
   "outputs": [
    {
     "data": {
      "text/plain": [
       "{'PAPER CRAFT , LITTLE BIRDIE': 'rgba(102, 16, 242)',\n",
       " 'MEDIUM CERAMIC TOP STORAGE JAR': 'rgba(55, 141, 252)',\n",
       " 'REGENCY CAKESTAND 3 TIER': 'rgba(13, 202, 240)',\n",
       " 'WHITE HANGING HEART T-LIGHT HOLDER': 'rgba(32, 201, 151)',\n",
       " 'PARTY BUNTING': 'rgba(67, 204, 41)'}"
      ]
     },
     "execution_count": 36,
     "metadata": {},
     "output_type": "execute_result"
    }
   ],
   "source": [
    "top_color_dict"
   ]
  },
  {
   "cell_type": "markdown",
   "id": "af001c32-2f63-4d57-acc6-7f15686bcb3b",
   "metadata": {},
   "source": [
    "## Card 5"
   ]
  },
  {
   "cell_type": "markdown",
   "id": "813135c1-111c-4bbc-bd1d-5847ad47f1ee",
   "metadata": {},
   "source": []
  },
  {
   "cell_type": "markdown",
   "id": "fdb9f79d-6090-412e-ab15-c406447fdea9",
   "metadata": {},
   "source": [
    "### Card5 functions"
   ]
  },
  {
   "cell_type": "code",
   "execution_count": 13,
   "id": "2ae7eef6-5151-4023-8bcd-fe2ca7a0c6cd",
   "metadata": {},
   "outputs": [],
   "source": [
    "# Getting monthly sales trend for top 5 items\n",
    "def top5_sales_monthly_func(dataset,top_list):\n",
    "    desc_sales_trend = dataset.groupby(['Month',\"Description\"])['Line totals'].sum().reset_index()\n",
    "    desc_sales_trend = pd.pivot(data = desc_sales_trend,index='Month', columns='Description', values='Line totals')\n",
    "    desc_sales_trend = (desc_sales_trend[top_list]).replace(np.nan, 0).loc[month_order]\n",
    "    return desc_sales_trend\n",
    "\n",
    "# Plotting top 5 monthly sales trend\n",
    "\n",
    "def top5_sales_monthly_plot(dataset,color_list):\n",
    "    top5_sales_plot = go.Figure()\n",
    "    for i,item in enumerate(dataset.columns):\n",
    "        top5_sales_plot.add_trace(go.Scatter(\n",
    "                                            x=dataset.index, \n",
    "                                            y=dataset[item], \n",
    "                                            mode='lines+markers',\n",
    "                                            name=item,\n",
    "                                            marker={\"size\":6},\n",
    "                                            line_shape='spline',\n",
    "                                            text=[item +': $' + human_format(x) for x in dataset[item]],\n",
    "                                            hovertemplate = '%{text} <extra></extra>',\n",
    "                                            line=dict(color=color_list[i]),\n",
    "                                            connectgaps=True)\n",
    "                                )\n",
    "    top5_sales_plot.update_layout(\n",
    "        height=275,\n",
    "        yaxis_tickprefix = '$',\n",
    "        xaxis=dict(\n",
    "            showline=False,\n",
    "            showgrid=False,\n",
    "            zeroline=False,\n",
    "            showticklabels=True,\n",
    "            linecolor='rgb(204, 204, 204)',\n",
    "            linewidth=2,\n",
    "            #ticks='outside',\n",
    "            tickfont=dict(\n",
    "                family='Arial',\n",
    "                size=12,\n",
    "                color='rgb(82, 82, 82)',\n",
    "            ),\n",
    "        ),\n",
    "        yaxis=dict(\n",
    "            showgrid=False,\n",
    "            zeroline=False,\n",
    "            #showline=True,\n",
    "            showticklabels=True,\n",
    "            tickfont=dict(\n",
    "                family='Arial',\n",
    "                size=9,\n",
    "                color='rgb(82, 82, 82)',),\n",
    "            tickangle=-45\n",
    "        ),\n",
    "        autosize=True,\n",
    "        margin=dict(\n",
    "            autoexpand=False,\n",
    "            l=20,\n",
    "            r=0,\n",
    "            t=0,\n",
    "        ),\n",
    "        showlegend=True,\n",
    "        legend_title_side='left',\n",
    "        legend_orientation='h',\n",
    "        paper_bgcolor='rgba(0,0,0,0)',\n",
    "        plot_bgcolor='rgba(0,0,0,0)'\n",
    "    )\n",
    "    return top5_sales_plot\n",
    "    "
   ]
  },
  {
   "cell_type": "markdown",
   "id": "68f63f0a-6d8e-469c-a772-e7fb8cde4cd8",
   "metadata": {},
   "source": [
    "### App"
   ]
  },
  {
   "cell_type": "code",
   "execution_count": 14,
   "id": "9bd066ef-fe3b-440c-8b68-856544d31e7f",
   "metadata": {},
   "outputs": [],
   "source": [
    "top5_sales_monthly = top5_sales_monthly_func(ordered,top5_sales_list)\n",
    "top5_sales_monthly_graph = top5_sales_monthly_plot(top5_sales_monthly, top5_colors)"
   ]
  },
  {
   "cell_type": "markdown",
   "id": "be7f161d-e832-4c34-a3a7-71df5d56da06",
   "metadata": {},
   "source": [
    "# Units"
   ]
  },
  {
   "cell_type": "markdown",
   "id": "e5f0b6e8-7f2a-41ef-acc9-4d61a6021f19",
   "metadata": {},
   "source": [
    "## Card3"
   ]
  },
  {
   "cell_type": "markdown",
   "id": "eb82ab78-bae4-46d0-a844-c634c0232c0f",
   "metadata": {},
   "source": [
    "### Card3 functions"
   ]
  },
  {
   "cell_type": "code",
   "execution_count": 15,
   "id": "49fdb992-c627-4e0c-98d1-ff49f5a3bd47",
   "metadata": {},
   "outputs": [],
   "source": [
    "#Getting raw number of total units\n",
    "def units_total_func(dataset):\n",
    "    return np.sum(dataset[\"Quantity\"])\n",
    "\n",
    "#Getting total units for each month\n",
    "def monthly_units_func(dataset,order):\n",
    "    monthly_units_df = np.ceil(pd.DataFrame(dataset.groupby(\"Month\")[\"Quantity\"].sum())).loc[order]\n",
    "    monthly_units_df['labels'] = monthly_units_df['Quantity'].apply(lambda x: human_format(x))\n",
    "    return monthly_units_df\n",
    "\n",
    "#Plotting monthly_units\n",
    "def monthly_units_plot_func(monthly_units_df,line_color):\n",
    "    monthly_units_plot = go.Figure()\n",
    "    monthly_units_plot.add_trace(go.Scatter(x=monthly_units_df.index, \n",
    "                                            y=monthly_units_df['Quantity'], \n",
    "                                            mode='lines+markers',\n",
    "                                            marker={\"size\":6},\n",
    "                                            line_shape='spline',\n",
    "                                            text=monthly_units_df['labels'],\n",
    "                                            hovertemplate = '%{x} %{text} <extra></extra>',\n",
    "                                            line=dict(color=line_color),\n",
    "                                            connectgaps=True))\n",
    "\n",
    "\n",
    "    monthly_units_plot.update_layout(\n",
    "        xaxis=dict(\n",
    "            showline=False,\n",
    "            showgrid=False,\n",
    "            showticklabels=True,\n",
    "            linecolor='rgb(204, 204, 204)',\n",
    "            linewidth=2,\n",
    "            ticks='outside',\n",
    "            tickfont=dict(\n",
    "                #family='Arial',\n",
    "                size=12,\n",
    "                #color='rgb(82, 82, 82)',\n",
    "            ),\n",
    "        ),\n",
    "        yaxis=dict(\n",
    "            showgrid=False,\n",
    "            zeroline=False,\n",
    "            showline=False,\n",
    "            showticklabels=False,\n",
    "        ),\n",
    "        autosize=True,\n",
    "        #width=200,\n",
    "        height=150,\n",
    "        margin=dict(\n",
    "            autoexpand=False,\n",
    "            l=0,\n",
    "            r=0,\n",
    "            t=0,\n",
    "            b=38,\n",
    "        ),\n",
    "        showlegend=False,\n",
    "        paper_bgcolor='rgba(0,0,0,0)',\n",
    "        plot_bgcolor='rgba(0,0,0,0)'\n",
    "    )\n",
    "    return monthly_units_plot"
   ]
  },
  {
   "cell_type": "markdown",
   "id": "657ca1fc-6d59-4c48-97d1-8f39dbecba55",
   "metadata": {},
   "source": [
    "### App"
   ]
  },
  {
   "cell_type": "code",
   "execution_count": 17,
   "id": "006b7afb-d1a0-4872-b83c-3cf1ebc44a27",
   "metadata": {},
   "outputs": [],
   "source": [
    "units_total = units_total_func(ordered)\n",
    "units_total_short = human_format(units_total)\n",
    "monthly_units_df = monthly_units_func(ordered, month_order)\n",
    "monthly_units_graph = monthly_units_plot_func(monthly_units_df, pink_rgba)"
   ]
  },
  {
   "cell_type": "markdown",
   "id": "823e558f-4bc1-4f43-be53-b36ef2da6dd4",
   "metadata": {
    "tags": []
   },
   "source": [
    "## Card4"
   ]
  },
  {
   "cell_type": "markdown",
   "id": "5d83f016-2fce-4024-9f1e-7a39c780585b",
   "metadata": {
    "tags": []
   },
   "source": [
    "### Card4 functions"
   ]
  },
  {
   "cell_type": "code",
   "execution_count": 18,
   "id": "58f3c0ce-2b21-4b42-aed1-de33f14046c7",
   "metadata": {},
   "outputs": [],
   "source": [
    "# Getting top 5 units items\n",
    "def top5_units_func(dataset, ):\n",
    "    desc_units = pd.DataFrame(zip(dataset['Quantity'], dataset[\"Description\"]))\n",
    "    desc_units.columns = [\"Quantity\",\"Item\"]\n",
    "    desc_units_df = np.ceil(pd.DataFrame(desc_units.groupby(\"Item\")[\"Quantity\"].sum())).sort_values('Quantity',ascending=False)\n",
    "    desc_units_df['labels'] = desc_units_df['Quantity'].apply(lambda x: human_format(x))\n",
    "    desc_units_df = desc_units_df.head()\n",
    "    return desc_units_df,list(desc_units_df.index)\n",
    "\n",
    "# Plotting top 5 units items\n",
    "def top5_units_plot(top5_units_df,color_list):\n",
    "    desc_units_plot = go.Figure()\n",
    "\n",
    "    for ind,i in enumerate(top5_units_df.index):\n",
    "        desc_units_plot.add_trace(go.Scatter(y=[i,i], \n",
    "                                            x=[0,top5_units_df.loc[i]['Quantity']], \n",
    "                                            mode='lines+markers',\n",
    "                                            marker={\"size\":9},\n",
    "                                            text = [top5_units_df.loc[i]['labels']]*2,\n",
    "                                            line=dict(color = color_list[ind],width=9),\n",
    "                                            hovertemplate = '%{y} <br>%{text}<extra></extra>',\n",
    "                                            #hoverinfo='skip',\n",
    "                                            ))\n",
    "        desc_units_plot.add_annotation(xanchor='left',\n",
    "                                x=0,\n",
    "                                y=i,\n",
    "                                text=i,\n",
    "                                yshift=10,\n",
    "                                xshift=-5,\n",
    "                                font={'size':9},\n",
    "                                showarrow=False,\n",
    "                            )\n",
    "\n",
    "    desc_units_plot.update_layout(\n",
    "        xaxis=dict(\n",
    "            showline=False,\n",
    "            showgrid=False,\n",
    "            showticklabels=True,\n",
    "            zeroline=False,\n",
    "            ticks='outside',\n",
    "            tickfont=dict(\n",
    "                family='Arial',\n",
    "                size=12,\n",
    "                #color='rgb(82, 82, 82)',\n",
    "            ),\n",
    "        ),\n",
    "        yaxis=dict(\n",
    "            autorange='reversed',\n",
    "            showgrid=False,\n",
    "            showline=False,\n",
    "            showticklabels=False,\n",
    "            tickangle=-45,\n",
    "            tickfont=dict(\n",
    "                family='Arial',\n",
    "                size=9,\n",
    "                #color='rgb(82, 82, 82)',\n",
    "            )\n",
    "        ),\n",
    "        #xaxis_tickprefix = '$',\n",
    "        autosize=True,\n",
    "        #width=200,\n",
    "        height=200,\n",
    "        showlegend=False,\n",
    "        paper_bgcolor='rgba(0,0,0,0)',\n",
    "        plot_bgcolor='rgba(0,0,0,0)',\n",
    "        margin=dict(\n",
    "            autoexpand=False,\n",
    "            l=0,\n",
    "            r=0,\n",
    "            t=0,\n",
    "            b=35,\n",
    "        ),\n",
    "    )\n",
    "    \n",
    "    return desc_units_plot"
   ]
  },
  {
   "cell_type": "markdown",
   "id": "7099ad1c-e787-4a0e-9d25-fa4036f6c85b",
   "metadata": {},
   "source": [
    "### App"
   ]
  },
  {
   "cell_type": "code",
   "execution_count": 19,
   "id": "f84a1507-2120-4340-868c-05b03642c583",
   "metadata": {},
   "outputs": [],
   "source": [
    "top5_units,top5_units_list = top5_units_func(ordered)\n",
    "top5_units_graph = top5_units_plot(top5_units,top5_colors)"
   ]
  },
  {
   "cell_type": "markdown",
   "id": "78a5ec28-54bc-47f3-8c45-fa74f182b6f1",
   "metadata": {},
   "source": [
    "## Card6"
   ]
  },
  {
   "cell_type": "markdown",
   "id": "446ca228-4bf5-4ffe-a590-a1b93ea7f495",
   "metadata": {},
   "source": [
    "### Card6 functions"
   ]
  },
  {
   "cell_type": "code",
   "execution_count": 20,
   "id": "a4a6b81c-a3f9-47e4-a3dc-3d4ae898a491",
   "metadata": {},
   "outputs": [],
   "source": [
    "# Getting monthly units trend for top 5 items\n",
    "def top5_units_monthly_func(dataset,top_list):\n",
    "    desc_units_trend = dataset.groupby(['Month',\"Description\"])['Quantity'].sum().reset_index()\n",
    "    desc_units_trend = pd.pivot(data = desc_units_trend,index='Month', columns='Description', values='Quantity')\n",
    "    desc_units_trend = (desc_units_trend[top_list]).replace(np.nan, 0).loc[month_order]\n",
    "    return desc_units_trend\n",
    "\n",
    "# Plotting top 5 monthly units trend\n",
    "\n",
    "def top5_units_monthly_plot(dataset,color_list):\n",
    "    top5_units_plot = go.Figure()\n",
    "    for i,item in enumerate(dataset.columns):\n",
    "        top5_units_plot.add_trace(go.Scatter(\n",
    "                                            x=dataset.index, \n",
    "                                            y=dataset[item], \n",
    "                                            mode='lines+markers',\n",
    "                                            name=item,\n",
    "                                            marker={\"size\":6},\n",
    "                                            line_shape='spline',\n",
    "                                            text=[item +': '+human_format(x) for x in dataset[item]],\n",
    "                                            hovertemplate = '%{text} <extra></extra>',\n",
    "                                            line=dict(color=color_list[i]),\n",
    "                                            connectgaps=True)\n",
    "                                )\n",
    "    top5_units_plot.update_layout(\n",
    "        height=275,\n",
    "        #yaxis_tickprefix = '$',\n",
    "        xaxis=dict(\n",
    "            showline=False,\n",
    "            showgrid=False,\n",
    "            zeroline=False,\n",
    "            showticklabels=True,\n",
    "            linecolor='rgb(204, 204, 204)',\n",
    "            linewidth=2,\n",
    "            #ticks='outside',\n",
    "            tickfont=dict(\n",
    "                family='Arial',\n",
    "                size=12,\n",
    "                #color='rgb(82, 82, 82)',\n",
    "            ),\n",
    "        ),\n",
    "        yaxis=dict(\n",
    "            showgrid=False,\n",
    "            zeroline=False,\n",
    "            #showline=True,\n",
    "            showticklabels=True,\n",
    "            tickangle=-45,\n",
    "            tickfont=dict(\n",
    "                family='Arial',\n",
    "                size=9,\n",
    "                #color='rgb(82, 82, 82)'\n",
    "            )\n",
    "        ),\n",
    "        autosize=True,\n",
    "        margin=dict(\n",
    "            autoexpand=False,\n",
    "            l=20,\n",
    "            r=0,\n",
    "            t=0,\n",
    "        ),\n",
    "        showlegend=True,\n",
    "        legend_title_side='left',\n",
    "        legend_orientation='h',\n",
    "        paper_bgcolor='rgba(0,0,0,0)',\n",
    "        plot_bgcolor='rgba(0,0,0,0)'\n",
    "        )\n",
    "    return top5_units_plot\n",
    "    "
   ]
  },
  {
   "cell_type": "markdown",
   "id": "6cffef5c-ae28-4953-a73c-37f443757890",
   "metadata": {},
   "source": [
    "### App"
   ]
  },
  {
   "cell_type": "code",
   "execution_count": 21,
   "id": "596ab77a-5d58-4a42-bdab-7e10e20f798c",
   "metadata": {},
   "outputs": [],
   "source": [
    "top5_units_monthly = top5_units_monthly_func(ordered,top5_units_list)\n",
    "top5_units_monthly_graph = top5_units_monthly_plot(top5_units_monthly, top5_colors)"
   ]
  },
  {
   "cell_type": "markdown",
   "id": "f3c2c513-7c2a-4a3e-8f6a-2a6637a3cfa9",
   "metadata": {},
   "source": [
    "# Break"
   ]
  },
  {
   "cell_type": "code",
   "execution_count": 48,
   "id": "727032c5-2ebd-477e-a975-93d1a92e03e8",
   "metadata": {},
   "outputs": [
    {
     "data": {
      "text/plain": [
       "['PAPER CRAFT , LITTLE BIRDIE',\n",
       " 'MEDIUM CERAMIC TOP STORAGE JAR',\n",
       " 'REGENCY CAKESTAND 3 TIER',\n",
       " 'WHITE HANGING HEART T-LIGHT HOLDER',\n",
       " 'PARTY BUNTING']"
      ]
     },
     "execution_count": 48,
     "metadata": {},
     "output_type": "execute_result"
    }
   ],
   "source": [
    "top5_sales_list"
   ]
  },
  {
   "cell_type": "code",
   "execution_count": 55,
   "id": "c66d1e71-9e1d-482a-b708-74171dde6ba4",
   "metadata": {},
   "outputs": [],
   "source": [
    "def top_colors(top5_sales_list,top5_units_list,top_ten_rgba):\n",
    "    all_items = top5_sales_list\n",
    "    all_items2 = [i for i in top5_units_list if i not in top5_sales_list]\n",
    "    all_items3 = all_items+all_items2\n",
    "    length = len(all_items3)\n",
    "    top_colors_dict = dict(zip(all_items3,top_ten_rgba[:length]))\n",
    "    return top_colors_dict\n",
    "    "
   ]
  },
  {
   "cell_type": "code",
   "execution_count": 57,
   "id": "357630c8-8030-42f8-b256-7ad9cae73051",
   "metadata": {},
   "outputs": [
    {
     "data": {
      "text/plain": [
       "{'PAPER CRAFT , LITTLE BIRDIE': 'rgba(102, 16, 242, 1)',\n",
       " 'MEDIUM CERAMIC TOP STORAGE JAR': 'rgba(55, 141, 252, 1)',\n",
       " 'REGENCY CAKESTAND 3 TIER': 'rgba(13, 202, 240, 1)',\n",
       " 'WHITE HANGING HEART T-LIGHT HOLDER': 'rgba(32, 201, 151, 1)',\n",
       " 'PARTY BUNTING': 'rgba(67, 204, 41, 1)',\n",
       " 'WORLD WAR 2 GLIDERS ASSTD DESIGNS': 'rgba(255, 193, 7, 1)',\n",
       " 'POPCORN HOLDER': 'rgba(253, 126, 20, 1)',\n",
       " 'JUMBO BAG RED RETROSPOT': 'rgba(127, 138, 153, 1)'}"
      ]
     },
     "execution_count": 57,
     "metadata": {},
     "output_type": "execute_result"
    }
   ],
   "source": [
    "top_colors(top5_sales_list,top5_units_list, top_ten_rgba)"
   ]
  },
  {
   "cell_type": "code",
   "execution_count": 69,
   "id": "712c157f-c999-40b4-9164-f370d62b8fa6",
   "metadata": {},
   "outputs": [],
   "source": [
    "months = 1,4"
   ]
  },
  {
   "cell_type": "code",
   "execution_count": 77,
   "id": "3f4b2bdf-14aa-4c7d-856e-c4e8243ce187",
   "metadata": {},
   "outputs": [],
   "source": [
    "month_dict = {\n",
    "    1: 'Jan',\n",
    "    2: 'Feb',\n",
    "    3: 'Mar',\n",
    "    4: 'Apr',\n",
    "    5: 'May',\n",
    "    6: 'Jun',\n",
    "    7: 'Jul',\n",
    "    8: 'Aug',\n",
    "    9: 'Sep',\n",
    "    10: 'Oct',\n",
    "    11: 'Nov',\n",
    "    12: 'Dec'\n",
    "    }"
   ]
  },
  {
   "cell_type": "code",
   "execution_count": 101,
   "id": "a088b32d-2012-4042-b0d5-1d3ab2603f14",
   "metadata": {},
   "outputs": [],
   "source": [
    "def update_graph(months):\n",
    "    list_month_num = [i for i in range(months[0], (months[-1])+1)]\n",
    "    list_month_name = [month_dict[i] for i in list_month_num]\n",
    "    dff = ordered[ordered['Month'].isin(list_month_name)]\n",
    "    \n",
    "    return dff"
   ]
  },
  {
   "cell_type": "code",
   "execution_count": 102,
   "id": "295b2486-fd93-4646-b8b7-ed77084165d3",
   "metadata": {},
   "outputs": [],
   "source": [
    "test = update_graph(months)"
   ]
  },
  {
   "cell_type": "code",
   "execution_count": 103,
   "id": "da6b59f5-ee53-41d5-9ee7-ba7258a871a0",
   "metadata": {},
   "outputs": [
    {
     "data": {
      "text/html": [
       "<div>\n",
       "<style scoped>\n",
       "    .dataframe tbody tr th:only-of-type {\n",
       "        vertical-align: middle;\n",
       "    }\n",
       "\n",
       "    .dataframe tbody tr th {\n",
       "        vertical-align: top;\n",
       "    }\n",
       "\n",
       "    .dataframe thead th {\n",
       "        text-align: right;\n",
       "    }\n",
       "</style>\n",
       "<table border=\"1\" class=\"dataframe\">\n",
       "  <thead>\n",
       "    <tr style=\"text-align: right;\">\n",
       "      <th></th>\n",
       "      <th>index</th>\n",
       "      <th>InvoiceNo</th>\n",
       "      <th>StockCode</th>\n",
       "      <th>Description</th>\n",
       "      <th>Quantity</th>\n",
       "      <th>UnitPrice</th>\n",
       "      <th>CustomerID</th>\n",
       "      <th>Country</th>\n",
       "      <th>InvoiceDay</th>\n",
       "      <th>TransType</th>\n",
       "      <th>Month</th>\n",
       "      <th>Year</th>\n",
       "      <th>Line totals</th>\n",
       "    </tr>\n",
       "  </thead>\n",
       "  <tbody>\n",
       "    <tr>\n",
       "      <th>0</th>\n",
       "      <td>14051</td>\n",
       "      <td>539993</td>\n",
       "      <td>21498</td>\n",
       "      <td>RED RETROSPOT WRAP</td>\n",
       "      <td>25</td>\n",
       "      <td>0.42</td>\n",
       "      <td>13313</td>\n",
       "      <td>United Kingdom</td>\n",
       "      <td>2020-04-01</td>\n",
       "      <td>Ordered</td>\n",
       "      <td>Apr</td>\n",
       "      <td>2020</td>\n",
       "      <td>10.50</td>\n",
       "    </tr>\n",
       "    <tr>\n",
       "      <th>1</th>\n",
       "      <td>14052</td>\n",
       "      <td>539993</td>\n",
       "      <td>85099B</td>\n",
       "      <td>JUMBO BAG RED RETROSPOT</td>\n",
       "      <td>10</td>\n",
       "      <td>1.95</td>\n",
       "      <td>13313</td>\n",
       "      <td>United Kingdom</td>\n",
       "      <td>2020-04-01</td>\n",
       "      <td>Ordered</td>\n",
       "      <td>Apr</td>\n",
       "      <td>2020</td>\n",
       "      <td>19.50</td>\n",
       "    </tr>\n",
       "    <tr>\n",
       "      <th>2</th>\n",
       "      <td>14053</td>\n",
       "      <td>539993</td>\n",
       "      <td>22667</td>\n",
       "      <td>RECIPE BOX RETROSPOT</td>\n",
       "      <td>6</td>\n",
       "      <td>2.95</td>\n",
       "      <td>13313</td>\n",
       "      <td>United Kingdom</td>\n",
       "      <td>2020-04-01</td>\n",
       "      <td>Ordered</td>\n",
       "      <td>Apr</td>\n",
       "      <td>2020</td>\n",
       "      <td>17.70</td>\n",
       "    </tr>\n",
       "    <tr>\n",
       "      <th>3</th>\n",
       "      <td>14054</td>\n",
       "      <td>539993</td>\n",
       "      <td>22303</td>\n",
       "      <td>COFFEE MUG APPLES DESIGN</td>\n",
       "      <td>6</td>\n",
       "      <td>2.55</td>\n",
       "      <td>13313</td>\n",
       "      <td>United Kingdom</td>\n",
       "      <td>2020-04-01</td>\n",
       "      <td>Ordered</td>\n",
       "      <td>Apr</td>\n",
       "      <td>2020</td>\n",
       "      <td>15.30</td>\n",
       "    </tr>\n",
       "    <tr>\n",
       "      <th>4</th>\n",
       "      <td>14055</td>\n",
       "      <td>539993</td>\n",
       "      <td>22808</td>\n",
       "      <td>SET OF 6 T-LIGHTS EASTER CHICKS</td>\n",
       "      <td>12</td>\n",
       "      <td>2.95</td>\n",
       "      <td>13313</td>\n",
       "      <td>United Kingdom</td>\n",
       "      <td>2020-04-01</td>\n",
       "      <td>Ordered</td>\n",
       "      <td>Apr</td>\n",
       "      <td>2020</td>\n",
       "      <td>35.40</td>\n",
       "    </tr>\n",
       "    <tr>\n",
       "      <th>...</th>\n",
       "      <td>...</td>\n",
       "      <td>...</td>\n",
       "      <td>...</td>\n",
       "      <td>...</td>\n",
       "      <td>...</td>\n",
       "      <td>...</td>\n",
       "      <td>...</td>\n",
       "      <td>...</td>\n",
       "      <td>...</td>\n",
       "      <td>...</td>\n",
       "      <td>...</td>\n",
       "      <td>...</td>\n",
       "      <td>...</td>\n",
       "    </tr>\n",
       "    <tr>\n",
       "      <th>156002</th>\n",
       "      <td>173247</td>\n",
       "      <td>580536</td>\n",
       "      <td>21156</td>\n",
       "      <td>RETROSPOT CHILDRENS APRON</td>\n",
       "      <td>8</td>\n",
       "      <td>1.95</td>\n",
       "      <td>12490</td>\n",
       "      <td>France</td>\n",
       "      <td>2020-04-12</td>\n",
       "      <td>Ordered</td>\n",
       "      <td>Apr</td>\n",
       "      <td>2020</td>\n",
       "      <td>15.60</td>\n",
       "    </tr>\n",
       "    <tr>\n",
       "      <th>156003</th>\n",
       "      <td>173248</td>\n",
       "      <td>580536</td>\n",
       "      <td>22628</td>\n",
       "      <td>PICNIC BOXES SET OF 3 RETROSPOT</td>\n",
       "      <td>4</td>\n",
       "      <td>4.95</td>\n",
       "      <td>12490</td>\n",
       "      <td>France</td>\n",
       "      <td>2020-04-12</td>\n",
       "      <td>Ordered</td>\n",
       "      <td>Apr</td>\n",
       "      <td>2020</td>\n",
       "      <td>19.80</td>\n",
       "    </tr>\n",
       "    <tr>\n",
       "      <th>156004</th>\n",
       "      <td>173249</td>\n",
       "      <td>580537</td>\n",
       "      <td>23210</td>\n",
       "      <td>WHITE ROCKING HORSE HAND PAINTED</td>\n",
       "      <td>3</td>\n",
       "      <td>1.25</td>\n",
       "      <td>0</td>\n",
       "      <td>United Kingdom</td>\n",
       "      <td>2020-04-12</td>\n",
       "      <td>Ordered</td>\n",
       "      <td>Apr</td>\n",
       "      <td>2020</td>\n",
       "      <td>3.75</td>\n",
       "    </tr>\n",
       "    <tr>\n",
       "      <th>156005</th>\n",
       "      <td>173250</td>\n",
       "      <td>580537</td>\n",
       "      <td>23247</td>\n",
       "      <td>BISCUIT TIN 50'S CHRISTMAS</td>\n",
       "      <td>1</td>\n",
       "      <td>2.89</td>\n",
       "      <td>0</td>\n",
       "      <td>United Kingdom</td>\n",
       "      <td>2020-04-12</td>\n",
       "      <td>Ordered</td>\n",
       "      <td>Apr</td>\n",
       "      <td>2020</td>\n",
       "      <td>2.89</td>\n",
       "    </tr>\n",
       "    <tr>\n",
       "      <th>156006</th>\n",
       "      <td>173251</td>\n",
       "      <td>580537</td>\n",
       "      <td>23312</td>\n",
       "      <td>VINTAGE CHRISTMAS GIFT SACK</td>\n",
       "      <td>2</td>\n",
       "      <td>4.15</td>\n",
       "      <td>0</td>\n",
       "      <td>United Kingdom</td>\n",
       "      <td>2020-04-12</td>\n",
       "      <td>Ordered</td>\n",
       "      <td>Apr</td>\n",
       "      <td>2020</td>\n",
       "      <td>8.30</td>\n",
       "    </tr>\n",
       "  </tbody>\n",
       "</table>\n",
       "<p>45984 rows × 13 columns</p>\n",
       "</div>"
      ],
      "text/plain": [
       "         index  InvoiceNo StockCode                       Description  \\\n",
       "0        14051     539993     21498               RED RETROSPOT WRAP    \n",
       "1        14052     539993    85099B           JUMBO BAG RED RETROSPOT   \n",
       "2        14053     539993     22667             RECIPE BOX RETROSPOT    \n",
       "3        14054     539993     22303          COFFEE MUG APPLES DESIGN   \n",
       "4        14055     539993     22808   SET OF 6 T-LIGHTS EASTER CHICKS   \n",
       "...        ...        ...       ...                               ...   \n",
       "156002  173247     580536     21156         RETROSPOT CHILDRENS APRON   \n",
       "156003  173248     580536     22628  PICNIC BOXES SET OF 3 RETROSPOT    \n",
       "156004  173249     580537     23210  WHITE ROCKING HORSE HAND PAINTED   \n",
       "156005  173250     580537     23247        BISCUIT TIN 50'S CHRISTMAS   \n",
       "156006  173251     580537     23312       VINTAGE CHRISTMAS GIFT SACK   \n",
       "\n",
       "        Quantity  UnitPrice  CustomerID         Country InvoiceDay TransType  \\\n",
       "0             25       0.42       13313  United Kingdom 2020-04-01   Ordered   \n",
       "1             10       1.95       13313  United Kingdom 2020-04-01   Ordered   \n",
       "2              6       2.95       13313  United Kingdom 2020-04-01   Ordered   \n",
       "3              6       2.55       13313  United Kingdom 2020-04-01   Ordered   \n",
       "4             12       2.95       13313  United Kingdom 2020-04-01   Ordered   \n",
       "...          ...        ...         ...             ...        ...       ...   \n",
       "156002         8       1.95       12490          France 2020-04-12   Ordered   \n",
       "156003         4       4.95       12490          France 2020-04-12   Ordered   \n",
       "156004         3       1.25           0  United Kingdom 2020-04-12   Ordered   \n",
       "156005         1       2.89           0  United Kingdom 2020-04-12   Ordered   \n",
       "156006         2       4.15           0  United Kingdom 2020-04-12   Ordered   \n",
       "\n",
       "       Month  Year  Line totals  \n",
       "0        Apr  2020        10.50  \n",
       "1        Apr  2020        19.50  \n",
       "2        Apr  2020        17.70  \n",
       "3        Apr  2020        15.30  \n",
       "4        Apr  2020        35.40  \n",
       "...      ...   ...          ...  \n",
       "156002   Apr  2020        15.60  \n",
       "156003   Apr  2020        19.80  \n",
       "156004   Apr  2020         3.75  \n",
       "156005   Apr  2020         2.89  \n",
       "156006   Apr  2020         8.30  \n",
       "\n",
       "[45984 rows x 13 columns]"
      ]
     },
     "execution_count": 103,
     "metadata": {},
     "output_type": "execute_result"
    }
   ],
   "source": [
    "test"
   ]
  },
  {
   "cell_type": "code",
   "execution_count": 105,
   "id": "966115d4-a4c6-4f30-9c6e-dde8556a0455",
   "metadata": {},
   "outputs": [
    {
     "data": {
      "text/plain": [
       "'/Users/michaelcondon/Documents/DataAndStories/Codebase/Dash-template/data'"
      ]
     },
     "execution_count": 105,
     "metadata": {},
     "output_type": "execute_result"
    }
   ],
   "source": [
    "import os\n",
    "\n",
    "# Get the current working directory\n",
    "cwd = os.getcwd()\n",
    "cwd+'data/Condensed data from online retail.csv'"
   ]
  },
  {
   "cell_type": "code",
   "execution_count": null,
   "id": "e91c1f76-901f-48b5-861f-891b8242ace3",
   "metadata": {},
   "outputs": [],
   "source": []
  }
 ],
 "metadata": {
  "kernelspec": {
   "display_name": "Python 3",
   "language": "python",
   "name": "python3"
  },
  "language_info": {
   "codemirror_mode": {
    "name": "ipython",
    "version": 3
   },
   "file_extension": ".py",
   "mimetype": "text/x-python",
   "name": "python",
   "nbconvert_exporter": "python",
   "pygments_lexer": "ipython3",
   "version": "3.8.5"
  }
 },
 "nbformat": 4,
 "nbformat_minor": 5
}
